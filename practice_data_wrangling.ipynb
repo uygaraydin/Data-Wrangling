{
  "metadata": {
    "kernelspec": {
      "name": "python",
      "display_name": "Python (Pyodide)",
      "language": "python"
    },
    "language_info": {
      "codemirror_mode": {
        "name": "python",
        "version": 3
      },
      "file_extension": ".py",
      "mimetype": "text/x-python",
      "name": "python",
      "nbconvert_exporter": "python",
      "pygments_lexer": "ipython3",
      "version": "3.8"
    }
  },
  "nbformat_minor": 4,
  "nbformat": 4,
  "cells": [
    {
      "cell_type": "markdown",
      "source": "### Importing Required Libraries\n\n",
      "metadata": {}
    },
    {
      "cell_type": "code",
      "source": "import numpy as np\nimport pandas as pd\nimport matplotlib.pyplot as plt\n%matplotlib inline",
      "metadata": {
        "trusted": true
      },
      "outputs": [],
      "execution_count": 1
    },
    {
      "cell_type": "markdown",
      "source": "Download the updated dataset by running the cell below.\n\nThe functions below will download the dataset into your browser:\n",
      "metadata": {}
    },
    {
      "cell_type": "code",
      "source": "from pyodide.http import pyfetch\n\nasync def download(url, filename):\n    response = await pyfetch(url)\n    if response.status == 200:\n        with open(filename, \"wb\") as f:\n            f.write(await response.bytes())",
      "metadata": {
        "trusted": true
      },
      "outputs": [],
      "execution_count": 2
    },
    {
      "cell_type": "code",
      "source": "file_path= \"https://cf-courses-data.s3.us.cloud-object-storage.appdomain.cloud/IBMDeveloperSkillsNetwork-DA0101EN-Coursera/laptop_pricing_dataset_mod1.csv\"",
      "metadata": {
        "trusted": true
      },
      "outputs": [],
      "execution_count": 3
    },
    {
      "cell_type": "markdown",
      "source": "To obtain the dataset, utilize the download() function as defined above:\n",
      "metadata": {}
    },
    {
      "cell_type": "code",
      "source": "await download(file_path, \"laptops.csv\")\nfile_name=\"laptops.csv\"",
      "metadata": {
        "trusted": true
      },
      "outputs": [],
      "execution_count": 4
    },
    {
      "cell_type": "markdown",
      "source": "First we load data into a `pandas.DataFrame`:\n",
      "metadata": {}
    },
    {
      "cell_type": "code",
      "source": "df = pd.read_csv(file_name, header=0)",
      "metadata": {
        "trusted": true
      },
      "outputs": [],
      "execution_count": 5
    },
    {
      "cell_type": "markdown",
      "source": "Verify loading by displaying the dataframe summary using `dataframe.info()`\n",
      "metadata": {}
    },
    {
      "cell_type": "code",
      "source": "print(df.info())",
      "metadata": {
        "trusted": true
      },
      "outputs": [
        {
          "name": "stdout",
          "text": "<class 'pandas.core.frame.DataFrame'>\nRangeIndex: 238 entries, 0 to 237\nData columns (total 13 columns):\n #   Column          Non-Null Count  Dtype  \n---  ------          --------------  -----  \n 0   Unnamed: 0      238 non-null    int64  \n 1   Manufacturer    238 non-null    object \n 2   Category        238 non-null    int64  \n 3   Screen          238 non-null    object \n 4   GPU             238 non-null    int64  \n 5   OS              238 non-null    int64  \n 6   CPU_core        238 non-null    int64  \n 7   Screen_Size_cm  234 non-null    float64\n 8   CPU_frequency   238 non-null    float64\n 9   RAM_GB          238 non-null    int64  \n 10  Storage_GB_SSD  238 non-null    int64  \n 11  Weight_kg       233 non-null    float64\n 12  Price           238 non-null    int64  \ndtypes: float64(3), int64(8), object(2)\nmemory usage: 22.4+ KB\nNone\n",
          "output_type": "stream"
        }
      ],
      "execution_count": 6
    },
    {
      "cell_type": "markdown",
      "source": "View the first 5 values of the updated dataframe using `dataframe.head()`\n",
      "metadata": {}
    },
    {
      "cell_type": "code",
      "source": "df.head()",
      "metadata": {
        "trusted": true
      },
      "outputs": [
        {
          "execution_count": 7,
          "output_type": "execute_result",
          "data": {
            "text/plain": "   Unnamed: 0 Manufacturer  Category     Screen  GPU  OS  CPU_core  \\\n0           0         Acer         4  IPS Panel    2   1         5   \n1           1         Dell         3    Full HD    1   1         3   \n2           2         Dell         3    Full HD    1   1         7   \n3           3         Dell         4  IPS Panel    2   1         5   \n4           4           HP         4    Full HD    2   1         7   \n\n   Screen_Size_cm  CPU_frequency  RAM_GB  Storage_GB_SSD  Weight_kg  Price  \n0          35.560            1.6       8             256       1.60    978  \n1          39.624            2.0       4             256       2.20    634  \n2          39.624            2.7       8             256       2.20    946  \n3          33.782            1.6       8             128       1.22   1244  \n4          39.624            1.8       8             256       1.91    837  ",
            "text/html": "<div>\n<style scoped>\n    .dataframe tbody tr th:only-of-type {\n        vertical-align: middle;\n    }\n\n    .dataframe tbody tr th {\n        vertical-align: top;\n    }\n\n    .dataframe thead th {\n        text-align: right;\n    }\n</style>\n<table border=\"1\" class=\"dataframe\">\n  <thead>\n    <tr style=\"text-align: right;\">\n      <th></th>\n      <th>Unnamed: 0</th>\n      <th>Manufacturer</th>\n      <th>Category</th>\n      <th>Screen</th>\n      <th>GPU</th>\n      <th>OS</th>\n      <th>CPU_core</th>\n      <th>Screen_Size_cm</th>\n      <th>CPU_frequency</th>\n      <th>RAM_GB</th>\n      <th>Storage_GB_SSD</th>\n      <th>Weight_kg</th>\n      <th>Price</th>\n    </tr>\n  </thead>\n  <tbody>\n    <tr>\n      <th>0</th>\n      <td>0</td>\n      <td>Acer</td>\n      <td>4</td>\n      <td>IPS Panel</td>\n      <td>2</td>\n      <td>1</td>\n      <td>5</td>\n      <td>35.560</td>\n      <td>1.6</td>\n      <td>8</td>\n      <td>256</td>\n      <td>1.60</td>\n      <td>978</td>\n    </tr>\n    <tr>\n      <th>1</th>\n      <td>1</td>\n      <td>Dell</td>\n      <td>3</td>\n      <td>Full HD</td>\n      <td>1</td>\n      <td>1</td>\n      <td>3</td>\n      <td>39.624</td>\n      <td>2.0</td>\n      <td>4</td>\n      <td>256</td>\n      <td>2.20</td>\n      <td>634</td>\n    </tr>\n    <tr>\n      <th>2</th>\n      <td>2</td>\n      <td>Dell</td>\n      <td>3</td>\n      <td>Full HD</td>\n      <td>1</td>\n      <td>1</td>\n      <td>7</td>\n      <td>39.624</td>\n      <td>2.7</td>\n      <td>8</td>\n      <td>256</td>\n      <td>2.20</td>\n      <td>946</td>\n    </tr>\n    <tr>\n      <th>3</th>\n      <td>3</td>\n      <td>Dell</td>\n      <td>4</td>\n      <td>IPS Panel</td>\n      <td>2</td>\n      <td>1</td>\n      <td>5</td>\n      <td>33.782</td>\n      <td>1.6</td>\n      <td>8</td>\n      <td>128</td>\n      <td>1.22</td>\n      <td>1244</td>\n    </tr>\n    <tr>\n      <th>4</th>\n      <td>4</td>\n      <td>HP</td>\n      <td>4</td>\n      <td>Full HD</td>\n      <td>2</td>\n      <td>1</td>\n      <td>7</td>\n      <td>39.624</td>\n      <td>1.8</td>\n      <td>8</td>\n      <td>256</td>\n      <td>1.91</td>\n      <td>837</td>\n    </tr>\n  </tbody>\n</table>\n</div>"
          },
          "metadata": {}
        }
      ],
      "execution_count": 7
    },
    {
      "cell_type": "markdown",
      "source": "Note that we can update the `Screen_Size_cm` column such that all values are rounded to nearest 2 decimal places by using `numpy.round()`\n",
      "metadata": {}
    },
    {
      "cell_type": "code",
      "source": "df[['Screen_Size_cm']] = np.round(df[['Screen_Size_cm']],2)\ndf.head()",
      "metadata": {
        "trusted": true
      },
      "outputs": [
        {
          "execution_count": 8,
          "output_type": "execute_result",
          "data": {
            "text/plain": "   Unnamed: 0 Manufacturer  Category     Screen  GPU  OS  CPU_core  \\\n0           0         Acer         4  IPS Panel    2   1         5   \n1           1         Dell         3    Full HD    1   1         3   \n2           2         Dell         3    Full HD    1   1         7   \n3           3         Dell         4  IPS Panel    2   1         5   \n4           4           HP         4    Full HD    2   1         7   \n\n   Screen_Size_cm  CPU_frequency  RAM_GB  Storage_GB_SSD  Weight_kg  Price  \n0           35.56            1.6       8             256       1.60    978  \n1           39.62            2.0       4             256       2.20    634  \n2           39.62            2.7       8             256       2.20    946  \n3           33.78            1.6       8             128       1.22   1244  \n4           39.62            1.8       8             256       1.91    837  ",
            "text/html": "<div>\n<style scoped>\n    .dataframe tbody tr th:only-of-type {\n        vertical-align: middle;\n    }\n\n    .dataframe tbody tr th {\n        vertical-align: top;\n    }\n\n    .dataframe thead th {\n        text-align: right;\n    }\n</style>\n<table border=\"1\" class=\"dataframe\">\n  <thead>\n    <tr style=\"text-align: right;\">\n      <th></th>\n      <th>Unnamed: 0</th>\n      <th>Manufacturer</th>\n      <th>Category</th>\n      <th>Screen</th>\n      <th>GPU</th>\n      <th>OS</th>\n      <th>CPU_core</th>\n      <th>Screen_Size_cm</th>\n      <th>CPU_frequency</th>\n      <th>RAM_GB</th>\n      <th>Storage_GB_SSD</th>\n      <th>Weight_kg</th>\n      <th>Price</th>\n    </tr>\n  </thead>\n  <tbody>\n    <tr>\n      <th>0</th>\n      <td>0</td>\n      <td>Acer</td>\n      <td>4</td>\n      <td>IPS Panel</td>\n      <td>2</td>\n      <td>1</td>\n      <td>5</td>\n      <td>35.56</td>\n      <td>1.6</td>\n      <td>8</td>\n      <td>256</td>\n      <td>1.60</td>\n      <td>978</td>\n    </tr>\n    <tr>\n      <th>1</th>\n      <td>1</td>\n      <td>Dell</td>\n      <td>3</td>\n      <td>Full HD</td>\n      <td>1</td>\n      <td>1</td>\n      <td>3</td>\n      <td>39.62</td>\n      <td>2.0</td>\n      <td>4</td>\n      <td>256</td>\n      <td>2.20</td>\n      <td>634</td>\n    </tr>\n    <tr>\n      <th>2</th>\n      <td>2</td>\n      <td>Dell</td>\n      <td>3</td>\n      <td>Full HD</td>\n      <td>1</td>\n      <td>1</td>\n      <td>7</td>\n      <td>39.62</td>\n      <td>2.7</td>\n      <td>8</td>\n      <td>256</td>\n      <td>2.20</td>\n      <td>946</td>\n    </tr>\n    <tr>\n      <th>3</th>\n      <td>3</td>\n      <td>Dell</td>\n      <td>4</td>\n      <td>IPS Panel</td>\n      <td>2</td>\n      <td>1</td>\n      <td>5</td>\n      <td>33.78</td>\n      <td>1.6</td>\n      <td>8</td>\n      <td>128</td>\n      <td>1.22</td>\n      <td>1244</td>\n    </tr>\n    <tr>\n      <th>4</th>\n      <td>4</td>\n      <td>HP</td>\n      <td>4</td>\n      <td>Full HD</td>\n      <td>2</td>\n      <td>1</td>\n      <td>7</td>\n      <td>39.62</td>\n      <td>1.8</td>\n      <td>8</td>\n      <td>256</td>\n      <td>1.91</td>\n      <td>837</td>\n    </tr>\n  </tbody>\n</table>\n</div>"
          },
          "metadata": {}
        }
      ],
      "execution_count": 8
    },
    {
      "cell_type": "markdown",
      "source": "# Task - 1\n\n### Evaluate the dataset for missing data\nMissing data was last converted from '?' to numpy.NaN. Pandas uses NaN and Null values interchangeably. This means, you can just identify the entries having Null values. Write a code that identifies which columns have missing data. \n",
      "metadata": {}
    },
    {
      "cell_type": "code",
      "source": "missing_data=df.isnull()\nfor column in missing_data.columns.values.tolist():\n    print(column)\n    print(missing_data[column].value_counts())\n    print(\"\")\nmissing_data.columns",
      "metadata": {
        "trusted": true
      },
      "outputs": [
        {
          "name": "stdout",
          "text": "Unnamed: 0\nFalse    238\nName: Unnamed: 0, dtype: int64\n\nManufacturer\nFalse    238\nName: Manufacturer, dtype: int64\n\nCategory\nFalse    238\nName: Category, dtype: int64\n\nScreen\nFalse    238\nName: Screen, dtype: int64\n\nGPU\nFalse    238\nName: GPU, dtype: int64\n\nOS\nFalse    238\nName: OS, dtype: int64\n\nCPU_core\nFalse    238\nName: CPU_core, dtype: int64\n\nScreen_Size_cm\nFalse    234\nTrue       4\nName: Screen_Size_cm, dtype: int64\n\nCPU_frequency\nFalse    238\nName: CPU_frequency, dtype: int64\n\nRAM_GB\nFalse    238\nName: RAM_GB, dtype: int64\n\nStorage_GB_SSD\nFalse    238\nName: Storage_GB_SSD, dtype: int64\n\nWeight_kg\nFalse    233\nTrue       5\nName: Weight_kg, dtype: int64\n\nPrice\nFalse    238\nName: Price, dtype: int64\n\n",
          "output_type": "stream"
        },
        {
          "execution_count": 9,
          "output_type": "execute_result",
          "data": {
            "text/plain": "Index(['Unnamed: 0', 'Manufacturer', 'Category', 'Screen', 'GPU', 'OS',\n       'CPU_core', 'Screen_Size_cm', 'CPU_frequency', 'RAM_GB',\n       'Storage_GB_SSD', 'Weight_kg', 'Price'],\n      dtype='object')"
          },
          "metadata": {}
        }
      ],
      "execution_count": 9
    },
    {
      "cell_type": "markdown",
      "source": "# Task - 2\n\n### Replace with mean\nMissing values in attributes that have continuous data are best replaced using Mean value. We note that values in \"Weight_kg\" attribute are continuous in nature, and some values are missing. Therefore, write a code to replace the missing values of weight with the average value of the attribute.\n",
      "metadata": {}
    },
    {
      "cell_type": "code",
      "source": "avg_weight=df[\"Weight_kg\"].astype(\"float\").mean()\ndf[\"Weight_kg\"].replace(np.NaN,avg_weight,inplace=True)\ndf[\"Weight_kg\"]",
      "metadata": {
        "trusted": true
      },
      "outputs": [
        {
          "execution_count": 10,
          "output_type": "execute_result",
          "data": {
            "text/plain": "0      1.60\n1      2.20\n2      2.20\n3      1.22\n4      1.91\n       ... \n233    1.70\n234    1.20\n235    1.36\n236    2.40\n237    1.95\nName: Weight_kg, Length: 238, dtype: float64"
          },
          "metadata": {}
        }
      ],
      "execution_count": 10
    },
    {
      "cell_type": "markdown",
      "source": "### Replace with the most frequent value\nMissing values in attributes that have categorical data are best replaced using the most frequent value. We note that values in \"Screen_Size_cm\" attribute are categorical in nature, and some values are missing. Therefore, write a code to replace the missing values of Screen Size with the most frequent value of the attribute.\n",
      "metadata": {}
    },
    {
      "cell_type": "code",
      "source": "mf_screensize=df[\"Screen_Size_cm\"].value_counts().idxmax()\ndf[\"Screen_Size_cm\"].replace(np.NaN,mf_screensize,inplace=True)",
      "metadata": {
        "trusted": true
      },
      "outputs": [],
      "execution_count": 11
    },
    {
      "cell_type": "markdown",
      "source": "# Task - 3\n\n### Fixing the data types\nBoth \"Weight_kg\" and \"Screen_Size_cm\" are seen to have the data type \"Object\", while both of them should be having a data type of \"float\". Write a code to fix the data type of these two columns.\n",
      "metadata": {}
    },
    {
      "cell_type": "code",
      "source": "df[[\"Weight_kg\", \"Screen_Size_cm\"]] = df[[\"Weight_kg\", \"Screen_Size_cm\"]].astype(\"float\")",
      "metadata": {
        "trusted": true
      },
      "outputs": [],
      "execution_count": 12
    },
    {
      "cell_type": "markdown",
      "source": "# Task - 4\n\n### Data Standardization\nThe value of Screen_size usually has a standard unit of inches. Similarly, weight of the laptop is needed to be in pounds. Use the below mentioned units of conversion and write a code to modify the columns of the dataframe accordingly. Update their names as well.\n\n```{math}\n1 inch = 2.54 cm\n1 kg   = 2.205 pounds\n```\n",
      "metadata": {}
    },
    {
      "cell_type": "code",
      "source": "df[\"Screen_Size_cm\"]=df[\"Screen_Size_cm\"]/2.54\ndf.rename(columns={\"Screen_Size_cm\":\"Screen_Size_Inch\"})\n",
      "metadata": {
        "trusted": true
      },
      "outputs": [
        {
          "execution_count": 13,
          "output_type": "execute_result",
          "data": {
            "text/plain": "     Unnamed: 0 Manufacturer  Category     Screen  GPU  OS  CPU_core  \\\n0             0         Acer         4  IPS Panel    2   1         5   \n1             1         Dell         3    Full HD    1   1         3   \n2             2         Dell         3    Full HD    1   1         7   \n3             3         Dell         4  IPS Panel    2   1         5   \n4             4           HP         4    Full HD    2   1         7   \n..          ...          ...       ...        ...  ...  ..       ...   \n233         233       Lenovo         4  IPS Panel    2   1         7   \n234         234      Toshiba         3    Full HD    2   1         5   \n235         235       Lenovo         4  IPS Panel    2   1         5   \n236         236       Lenovo         3    Full HD    3   1         5   \n237         237      Toshiba         3    Full HD    2   1         5   \n\n     Screen_Size_Inch  CPU_frequency  RAM_GB  Storage_GB_SSD  Weight_kg  Price  \n0           14.000000            1.6       8             256       1.60    978  \n1           15.598425            2.0       4             256       2.20    634  \n2           15.598425            2.7       8             256       2.20    946  \n3           13.299213            1.6       8             128       1.22   1244  \n4           15.598425            1.8       8             256       1.91    837  \n..                ...            ...     ...             ...        ...    ...  \n233         14.000000            2.6       8             256       1.70   1891  \n234         13.299213            2.4       8             256       1.20   1950  \n235         12.000000            2.6       8             256       1.36   2236  \n236         15.598425            2.5       6             256       2.40    883  \n237         14.000000            2.3       8             256       1.95   1499  \n\n[238 rows x 13 columns]",
            "text/html": "<div>\n<style scoped>\n    .dataframe tbody tr th:only-of-type {\n        vertical-align: middle;\n    }\n\n    .dataframe tbody tr th {\n        vertical-align: top;\n    }\n\n    .dataframe thead th {\n        text-align: right;\n    }\n</style>\n<table border=\"1\" class=\"dataframe\">\n  <thead>\n    <tr style=\"text-align: right;\">\n      <th></th>\n      <th>Unnamed: 0</th>\n      <th>Manufacturer</th>\n      <th>Category</th>\n      <th>Screen</th>\n      <th>GPU</th>\n      <th>OS</th>\n      <th>CPU_core</th>\n      <th>Screen_Size_Inch</th>\n      <th>CPU_frequency</th>\n      <th>RAM_GB</th>\n      <th>Storage_GB_SSD</th>\n      <th>Weight_kg</th>\n      <th>Price</th>\n    </tr>\n  </thead>\n  <tbody>\n    <tr>\n      <th>0</th>\n      <td>0</td>\n      <td>Acer</td>\n      <td>4</td>\n      <td>IPS Panel</td>\n      <td>2</td>\n      <td>1</td>\n      <td>5</td>\n      <td>14.000000</td>\n      <td>1.6</td>\n      <td>8</td>\n      <td>256</td>\n      <td>1.60</td>\n      <td>978</td>\n    </tr>\n    <tr>\n      <th>1</th>\n      <td>1</td>\n      <td>Dell</td>\n      <td>3</td>\n      <td>Full HD</td>\n      <td>1</td>\n      <td>1</td>\n      <td>3</td>\n      <td>15.598425</td>\n      <td>2.0</td>\n      <td>4</td>\n      <td>256</td>\n      <td>2.20</td>\n      <td>634</td>\n    </tr>\n    <tr>\n      <th>2</th>\n      <td>2</td>\n      <td>Dell</td>\n      <td>3</td>\n      <td>Full HD</td>\n      <td>1</td>\n      <td>1</td>\n      <td>7</td>\n      <td>15.598425</td>\n      <td>2.7</td>\n      <td>8</td>\n      <td>256</td>\n      <td>2.20</td>\n      <td>946</td>\n    </tr>\n    <tr>\n      <th>3</th>\n      <td>3</td>\n      <td>Dell</td>\n      <td>4</td>\n      <td>IPS Panel</td>\n      <td>2</td>\n      <td>1</td>\n      <td>5</td>\n      <td>13.299213</td>\n      <td>1.6</td>\n      <td>8</td>\n      <td>128</td>\n      <td>1.22</td>\n      <td>1244</td>\n    </tr>\n    <tr>\n      <th>4</th>\n      <td>4</td>\n      <td>HP</td>\n      <td>4</td>\n      <td>Full HD</td>\n      <td>2</td>\n      <td>1</td>\n      <td>7</td>\n      <td>15.598425</td>\n      <td>1.8</td>\n      <td>8</td>\n      <td>256</td>\n      <td>1.91</td>\n      <td>837</td>\n    </tr>\n    <tr>\n      <th>...</th>\n      <td>...</td>\n      <td>...</td>\n      <td>...</td>\n      <td>...</td>\n      <td>...</td>\n      <td>...</td>\n      <td>...</td>\n      <td>...</td>\n      <td>...</td>\n      <td>...</td>\n      <td>...</td>\n      <td>...</td>\n      <td>...</td>\n    </tr>\n    <tr>\n      <th>233</th>\n      <td>233</td>\n      <td>Lenovo</td>\n      <td>4</td>\n      <td>IPS Panel</td>\n      <td>2</td>\n      <td>1</td>\n      <td>7</td>\n      <td>14.000000</td>\n      <td>2.6</td>\n      <td>8</td>\n      <td>256</td>\n      <td>1.70</td>\n      <td>1891</td>\n    </tr>\n    <tr>\n      <th>234</th>\n      <td>234</td>\n      <td>Toshiba</td>\n      <td>3</td>\n      <td>Full HD</td>\n      <td>2</td>\n      <td>1</td>\n      <td>5</td>\n      <td>13.299213</td>\n      <td>2.4</td>\n      <td>8</td>\n      <td>256</td>\n      <td>1.20</td>\n      <td>1950</td>\n    </tr>\n    <tr>\n      <th>235</th>\n      <td>235</td>\n      <td>Lenovo</td>\n      <td>4</td>\n      <td>IPS Panel</td>\n      <td>2</td>\n      <td>1</td>\n      <td>5</td>\n      <td>12.000000</td>\n      <td>2.6</td>\n      <td>8</td>\n      <td>256</td>\n      <td>1.36</td>\n      <td>2236</td>\n    </tr>\n    <tr>\n      <th>236</th>\n      <td>236</td>\n      <td>Lenovo</td>\n      <td>3</td>\n      <td>Full HD</td>\n      <td>3</td>\n      <td>1</td>\n      <td>5</td>\n      <td>15.598425</td>\n      <td>2.5</td>\n      <td>6</td>\n      <td>256</td>\n      <td>2.40</td>\n      <td>883</td>\n    </tr>\n    <tr>\n      <th>237</th>\n      <td>237</td>\n      <td>Toshiba</td>\n      <td>3</td>\n      <td>Full HD</td>\n      <td>2</td>\n      <td>1</td>\n      <td>5</td>\n      <td>14.000000</td>\n      <td>2.3</td>\n      <td>8</td>\n      <td>256</td>\n      <td>1.95</td>\n      <td>1499</td>\n    </tr>\n  </tbody>\n</table>\n<p>238 rows × 13 columns</p>\n</div>"
          },
          "metadata": {}
        }
      ],
      "execution_count": 13
    },
    {
      "cell_type": "code",
      "source": "df[\"Weight_kg\"]=df[\"Weight_kg\"]*2.205\ndf.rename(columns={\"Weight_kg\":\"Weight_pounds\"})",
      "metadata": {
        "trusted": true
      },
      "outputs": [
        {
          "execution_count": 14,
          "output_type": "execute_result",
          "data": {
            "text/plain": "     Unnamed: 0 Manufacturer  Category     Screen  GPU  OS  CPU_core  \\\n0             0         Acer         4  IPS Panel    2   1         5   \n1             1         Dell         3    Full HD    1   1         3   \n2             2         Dell         3    Full HD    1   1         7   \n3             3         Dell         4  IPS Panel    2   1         5   \n4             4           HP         4    Full HD    2   1         7   \n..          ...          ...       ...        ...  ...  ..       ...   \n233         233       Lenovo         4  IPS Panel    2   1         7   \n234         234      Toshiba         3    Full HD    2   1         5   \n235         235       Lenovo         4  IPS Panel    2   1         5   \n236         236       Lenovo         3    Full HD    3   1         5   \n237         237      Toshiba         3    Full HD    2   1         5   \n\n     Screen_Size_cm  CPU_frequency  RAM_GB  Storage_GB_SSD  Weight_pounds  \\\n0         14.000000            1.6       8             256        3.52800   \n1         15.598425            2.0       4             256        4.85100   \n2         15.598425            2.7       8             256        4.85100   \n3         13.299213            1.6       8             128        2.69010   \n4         15.598425            1.8       8             256        4.21155   \n..              ...            ...     ...             ...            ...   \n233       14.000000            2.6       8             256        3.74850   \n234       13.299213            2.4       8             256        2.64600   \n235       12.000000            2.6       8             256        2.99880   \n236       15.598425            2.5       6             256        5.29200   \n237       14.000000            2.3       8             256        4.29975   \n\n     Price  \n0      978  \n1      634  \n2      946  \n3     1244  \n4      837  \n..     ...  \n233   1891  \n234   1950  \n235   2236  \n236    883  \n237   1499  \n\n[238 rows x 13 columns]",
            "text/html": "<div>\n<style scoped>\n    .dataframe tbody tr th:only-of-type {\n        vertical-align: middle;\n    }\n\n    .dataframe tbody tr th {\n        vertical-align: top;\n    }\n\n    .dataframe thead th {\n        text-align: right;\n    }\n</style>\n<table border=\"1\" class=\"dataframe\">\n  <thead>\n    <tr style=\"text-align: right;\">\n      <th></th>\n      <th>Unnamed: 0</th>\n      <th>Manufacturer</th>\n      <th>Category</th>\n      <th>Screen</th>\n      <th>GPU</th>\n      <th>OS</th>\n      <th>CPU_core</th>\n      <th>Screen_Size_cm</th>\n      <th>CPU_frequency</th>\n      <th>RAM_GB</th>\n      <th>Storage_GB_SSD</th>\n      <th>Weight_pounds</th>\n      <th>Price</th>\n    </tr>\n  </thead>\n  <tbody>\n    <tr>\n      <th>0</th>\n      <td>0</td>\n      <td>Acer</td>\n      <td>4</td>\n      <td>IPS Panel</td>\n      <td>2</td>\n      <td>1</td>\n      <td>5</td>\n      <td>14.000000</td>\n      <td>1.6</td>\n      <td>8</td>\n      <td>256</td>\n      <td>3.52800</td>\n      <td>978</td>\n    </tr>\n    <tr>\n      <th>1</th>\n      <td>1</td>\n      <td>Dell</td>\n      <td>3</td>\n      <td>Full HD</td>\n      <td>1</td>\n      <td>1</td>\n      <td>3</td>\n      <td>15.598425</td>\n      <td>2.0</td>\n      <td>4</td>\n      <td>256</td>\n      <td>4.85100</td>\n      <td>634</td>\n    </tr>\n    <tr>\n      <th>2</th>\n      <td>2</td>\n      <td>Dell</td>\n      <td>3</td>\n      <td>Full HD</td>\n      <td>1</td>\n      <td>1</td>\n      <td>7</td>\n      <td>15.598425</td>\n      <td>2.7</td>\n      <td>8</td>\n      <td>256</td>\n      <td>4.85100</td>\n      <td>946</td>\n    </tr>\n    <tr>\n      <th>3</th>\n      <td>3</td>\n      <td>Dell</td>\n      <td>4</td>\n      <td>IPS Panel</td>\n      <td>2</td>\n      <td>1</td>\n      <td>5</td>\n      <td>13.299213</td>\n      <td>1.6</td>\n      <td>8</td>\n      <td>128</td>\n      <td>2.69010</td>\n      <td>1244</td>\n    </tr>\n    <tr>\n      <th>4</th>\n      <td>4</td>\n      <td>HP</td>\n      <td>4</td>\n      <td>Full HD</td>\n      <td>2</td>\n      <td>1</td>\n      <td>7</td>\n      <td>15.598425</td>\n      <td>1.8</td>\n      <td>8</td>\n      <td>256</td>\n      <td>4.21155</td>\n      <td>837</td>\n    </tr>\n    <tr>\n      <th>...</th>\n      <td>...</td>\n      <td>...</td>\n      <td>...</td>\n      <td>...</td>\n      <td>...</td>\n      <td>...</td>\n      <td>...</td>\n      <td>...</td>\n      <td>...</td>\n      <td>...</td>\n      <td>...</td>\n      <td>...</td>\n      <td>...</td>\n    </tr>\n    <tr>\n      <th>233</th>\n      <td>233</td>\n      <td>Lenovo</td>\n      <td>4</td>\n      <td>IPS Panel</td>\n      <td>2</td>\n      <td>1</td>\n      <td>7</td>\n      <td>14.000000</td>\n      <td>2.6</td>\n      <td>8</td>\n      <td>256</td>\n      <td>3.74850</td>\n      <td>1891</td>\n    </tr>\n    <tr>\n      <th>234</th>\n      <td>234</td>\n      <td>Toshiba</td>\n      <td>3</td>\n      <td>Full HD</td>\n      <td>2</td>\n      <td>1</td>\n      <td>5</td>\n      <td>13.299213</td>\n      <td>2.4</td>\n      <td>8</td>\n      <td>256</td>\n      <td>2.64600</td>\n      <td>1950</td>\n    </tr>\n    <tr>\n      <th>235</th>\n      <td>235</td>\n      <td>Lenovo</td>\n      <td>4</td>\n      <td>IPS Panel</td>\n      <td>2</td>\n      <td>1</td>\n      <td>5</td>\n      <td>12.000000</td>\n      <td>2.6</td>\n      <td>8</td>\n      <td>256</td>\n      <td>2.99880</td>\n      <td>2236</td>\n    </tr>\n    <tr>\n      <th>236</th>\n      <td>236</td>\n      <td>Lenovo</td>\n      <td>3</td>\n      <td>Full HD</td>\n      <td>3</td>\n      <td>1</td>\n      <td>5</td>\n      <td>15.598425</td>\n      <td>2.5</td>\n      <td>6</td>\n      <td>256</td>\n      <td>5.29200</td>\n      <td>883</td>\n    </tr>\n    <tr>\n      <th>237</th>\n      <td>237</td>\n      <td>Toshiba</td>\n      <td>3</td>\n      <td>Full HD</td>\n      <td>2</td>\n      <td>1</td>\n      <td>5</td>\n      <td>14.000000</td>\n      <td>2.3</td>\n      <td>8</td>\n      <td>256</td>\n      <td>4.29975</td>\n      <td>1499</td>\n    </tr>\n  </tbody>\n</table>\n<p>238 rows × 13 columns</p>\n</div>"
          },
          "metadata": {}
        }
      ],
      "execution_count": 14
    },
    {
      "cell_type": "markdown",
      "source": "### Data Normalization\nOften it is required to normalize a continuous data attribute. Write a code to normalize the \"CPU_frequency\" attribute with respect to the maximum value available in the dataset.\n",
      "metadata": {}
    },
    {
      "cell_type": "code",
      "source": "df['CPU_frequency'] = df['CPU_frequency']/df['CPU_frequency'].max()",
      "metadata": {
        "trusted": true
      },
      "outputs": [],
      "execution_count": 15
    },
    {
      "cell_type": "markdown",
      "source": "# Task - 5\n\n### Binning\nBinning is a process of creating a categorical attribute which splits the values of a continuous data into a specified number of groups. In this case, write a code to create 3 bins for the attribute \"Price\". These bins would be named \"Low\", \"Medium\" and \"High\". The new attribute will be named \"Price-binned\".\n",
      "metadata": {}
    },
    {
      "cell_type": "code",
      "source": "bins = np.linspace(min(df[\"Price\"]), max(df[\"Price\"]), 4)\ngroup_names = ['Low', 'Medium', 'High']\ndf['Price-binned'] = pd.cut(df['Price'], bins, labels=group_names, include_lowest=True )",
      "metadata": {
        "trusted": true
      },
      "outputs": [],
      "execution_count": 16
    },
    {
      "cell_type": "markdown",
      "source": "Also, plot the bar graph of these bins.\n",
      "metadata": {}
    },
    {
      "cell_type": "code",
      "source": "%matplotlib inline\nimport matplotlib as plt\nfrom matplotlib import pyplot\npyplot.bar(group_names, df[\"Price-binned\"].value_counts())\n\nplt.pyplot.xlabel(\"Price\")\nplt.pyplot.ylabel(\"Count\")\nplt.pyplot.title(\"Price bins\")",
      "metadata": {
        "trusted": true
      },
      "outputs": [
        {
          "execution_count": 17,
          "output_type": "execute_result",
          "data": {
            "text/plain": "Text(0.5, 1.0, 'Price bins')"
          },
          "metadata": {}
        },
        {
          "output_type": "display_data",
          "data": {
            "text/plain": "<Figure size 640x480 with 1 Axes>",
            "image/png": "[encoded data removed]"
          },
          "metadata": {}
        }
      ],
      "execution_count": 17
    },
    {
      "cell_type": "markdown",
      "source": "# Task - 6\n\n### Indicator variables\nConvert the \"Screen\" attribute of the dataset into 2 indicator variables, \"Screen-IPS_panel\" and \"Screen-Full_HD\". Then drop the \"Screen\" attribute from the dataset.\n",
      "metadata": {}
    },
    {
      "cell_type": "code",
      "source": "dummies=pd.get_dummies(df[\"Screen\"])\ndummies.rename(columns={\"IPS Panel\":\"Screen-IPS_panel\",\"Full HD\":\"Screen-Full_HD\"},inplace=True)\ndf = pd.concat([df, dummies], axis=1)\ndf.drop(\"Screen\", axis = 1, inplace=True)",
      "metadata": {
        "trusted": true
      },
      "outputs": [],
      "execution_count": 18
    },
    {
      "cell_type": "code",
      "source": "df.head()",
      "metadata": {
        "trusted": true
      },
      "outputs": [
        {
          "execution_count": 19,
          "output_type": "execute_result",
          "data": {
            "text/plain": "   Unnamed: 0 Manufacturer  Category  GPU  OS  CPU_core  Screen_Size_cm  \\\n0           0         Acer         4    2   1         5       14.000000   \n1           1         Dell         3    1   1         3       15.598425   \n2           2         Dell         3    1   1         7       15.598425   \n3           3         Dell         4    2   1         5       13.299213   \n4           4           HP         4    2   1         7       15.598425   \n\n   CPU_frequency  RAM_GB  Storage_GB_SSD  Weight_kg  Price Price-binned  \\\n0       0.551724       8             256    3.52800    978          Low   \n1       0.689655       4             256    4.85100    634          Low   \n2       0.931034       8             256    4.85100    946          Low   \n3       0.551724       8             128    2.69010   1244          Low   \n4       0.620690       8             256    4.21155    837          Low   \n\n   Screen-Full_HD  Screen-IPS_panel  \n0               0                 1  \n1               1                 0  \n2               1                 0  \n3               0                 1  \n4               1                 0  ",
            "text/html": "<div>\n<style scoped>\n    .dataframe tbody tr th:only-of-type {\n        vertical-align: middle;\n    }\n\n    .dataframe tbody tr th {\n        vertical-align: top;\n    }\n\n    .dataframe thead th {\n        text-align: right;\n    }\n</style>\n<table border=\"1\" class=\"dataframe\">\n  <thead>\n    <tr style=\"text-align: right;\">\n      <th></th>\n      <th>Unnamed: 0</th>\n      <th>Manufacturer</th>\n      <th>Category</th>\n      <th>GPU</th>\n      <th>OS</th>\n      <th>CPU_core</th>\n      <th>Screen_Size_cm</th>\n      <th>CPU_frequency</th>\n      <th>RAM_GB</th>\n      <th>Storage_GB_SSD</th>\n      <th>Weight_kg</th>\n      <th>Price</th>\n      <th>Price-binned</th>\n      <th>Screen-Full_HD</th>\n      <th>Screen-IPS_panel</th>\n    </tr>\n  </thead>\n  <tbody>\n    <tr>\n      <th>0</th>\n      <td>0</td>\n      <td>Acer</td>\n      <td>4</td>\n      <td>2</td>\n      <td>1</td>\n      <td>5</td>\n      <td>14.000000</td>\n      <td>0.551724</td>\n      <td>8</td>\n      <td>256</td>\n      <td>3.52800</td>\n      <td>978</td>\n      <td>Low</td>\n      <td>0</td>\n      <td>1</td>\n    </tr>\n    <tr>\n      <th>1</th>\n      <td>1</td>\n      <td>Dell</td>\n      <td>3</td>\n      <td>1</td>\n      <td>1</td>\n      <td>3</td>\n      <td>15.598425</td>\n      <td>0.689655</td>\n      <td>4</td>\n      <td>256</td>\n      <td>4.85100</td>\n      <td>634</td>\n      <td>Low</td>\n      <td>1</td>\n      <td>0</td>\n    </tr>\n    <tr>\n      <th>2</th>\n      <td>2</td>\n      <td>Dell</td>\n      <td>3</td>\n      <td>1</td>\n      <td>1</td>\n      <td>7</td>\n      <td>15.598425</td>\n      <td>0.931034</td>\n      <td>8</td>\n      <td>256</td>\n      <td>4.85100</td>\n      <td>946</td>\n      <td>Low</td>\n      <td>1</td>\n      <td>0</td>\n    </tr>\n    <tr>\n      <th>3</th>\n      <td>3</td>\n      <td>Dell</td>\n      <td>4</td>\n      <td>2</td>\n      <td>1</td>\n      <td>5</td>\n      <td>13.299213</td>\n      <td>0.551724</td>\n      <td>8</td>\n      <td>128</td>\n      <td>2.69010</td>\n      <td>1244</td>\n      <td>Low</td>\n      <td>0</td>\n      <td>1</td>\n    </tr>\n    <tr>\n      <th>4</th>\n      <td>4</td>\n      <td>HP</td>\n      <td>4</td>\n      <td>2</td>\n      <td>1</td>\n      <td>7</td>\n      <td>15.598425</td>\n      <td>0.620690</td>\n      <td>8</td>\n      <td>256</td>\n      <td>4.21155</td>\n      <td>837</td>\n      <td>Low</td>\n      <td>1</td>\n      <td>0</td>\n    </tr>\n  </tbody>\n</table>\n</div>"
          },
          "metadata": {}
        }
      ],
      "execution_count": 19
    },
    {
      "cell_type": "code",
      "source": "df.to_csv('clean_laptops.csv')",
      "metadata": {
        "trusted": true
      },
      "outputs": [],
      "execution_count": 20
    }
  ]
}